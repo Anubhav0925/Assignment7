{
 "cells": [
  {
   "cell_type": "markdown",
   "id": "809f14b8-9d49-42e9-9345-8cf28a32f3e4",
   "metadata": {},
   "source": [
    "Q1. What is Abstraction in OOps? Explain with an example."
   ]
  },
  {
   "cell_type": "markdown",
   "id": "e77b0fff-bc0e-4b87-a13c-56f7b4e1665e",
   "metadata": {},
   "source": [
    "Answere:- Abstraction is the process of hiding the internal details of an application from the outer world. Abstraction is used to describe things in simple terms. It’s used to create a boundary between the application and the client programs.\n",
    "Abstraction is present in almost all the real life machines.\n",
    "(i)Your car is a great example of abstraction. You can start a car by turning the key or pressing the start button. You don’t need to know how the engine is getting started, what all components your car has. The car internal implementation and complex logic is completely hidden from the user.\n",
    "(ii)We can heat our food in Microwave. We press some buttons to set the timer and type of food. Finally, we get a hot and delicious meal. The microwave internal details are hidden from us. We have been given access to the functionality in a very simple manner."
   ]
  },
  {
   "cell_type": "markdown",
   "id": "1c655bad-c923-4654-a397-4918b4ec4606",
   "metadata": {},
   "source": [
    "Q2. Differentiate between Abstraction and Encapsulation. Explain with an example."
   ]
  },
  {
   "cell_type": "markdown",
   "id": "69aaab37-d381-4696-beb5-2d5e6718e73a",
   "metadata": {},
   "source": [
    "Answere :- Key Differences between Abstraction vs Encapsulation :\n",
    "\n",
    "(i)Abstraction shows only useful data by providing the most necessary details, whereas Encapsulation wraps code and data for necessary information. (ii)Abstraction is focused mainly on what should be done, while Encapsulation is focused on how it should be done. Abstraction hides complexity by giving you a more abstract picture, while Encapsulation hides internal work so that you can change it later. (iii)Abstraction helps you to partition the program into many independent portions, whereas Encapsulation is easy to change with new requirements. (iv)Comparing Encapsulation vs Abstraction, Abstraction solves problems at the design level while Encapsulation solves problems at the implementation level. (v)Abstraction hides the irrelevant details found in the code, whereas Encapsulation helps developers to organize the entire code easily."
   ]
  },
  {
   "cell_type": "markdown",
   "id": "e6807b67-73d1-4967-b7b1-6ae7919d951e",
   "metadata": {},
   "source": [
    "Q3. What is abc module in python? Why is it used?"
   ]
  },
  {
   "cell_type": "markdown",
   "id": "ee9901f1-48a4-4b4b-98cf-2cf9dc601fb8",
   "metadata": {},
   "source": [
    "Answere:- A class is called an Abstract class if it contains one or more abstract methods. An abstract method is a method that is declared, but contains no implementation. Abstract classes may not be instantiated, and its abstract methods must be implemented by its subclasses.\n",
    "Python has a module called abc (abstract base class) that offers the necessary tools for crafting an abstract base class. First and foremost, you should understand the ABCMeta metaclass provided by the abstract base class. The rule is every abstract class must use ABCMeta"
   ]
  },
  {
   "cell_type": "markdown",
   "id": "321f2413-52ce-4f7b-bd26-b80d737ed071",
   "metadata": {},
   "source": [
    "Q4. How can we achieve data abstraction?"
   ]
  },
  {
   "cell_type": "markdown",
   "id": "1fbec11e-6b1a-436e-9021-c9649bbdc11d",
   "metadata": {},
   "source": [
    "Answere :- abstraction can be achieved by using abstract classes and interfaces.A class that consists of one or more abstract method is called the abstract class. Abstract methods do not contain their implementation. Abstract class can be inherited by the subclass and abstract method gets its definition in the subclass. Abstraction classes are meant to be the blueprint of the other class. An abstract class can be useful when we are designing large functions. An abstract class is also helpful to provide the standard interface for different implementations of components. Python provides the abc module to use the abstraction in the Python program. Let's see the following syntax."
   ]
  },
  {
   "cell_type": "markdown",
   "id": "25a8a90a-1ba2-464d-8993-1fbdccdc3221",
   "metadata": {},
   "source": [
    "Q5. Can we create an instance of an abstract class? Explain your answer."
   ]
  },
  {
   "cell_type": "code",
   "execution_count": null,
   "id": "701ec856-f4b1-485a-b16e-86b43fd6f17c",
   "metadata": {},
   "outputs": [],
   "source": []
  }
 ],
 "metadata": {
  "kernelspec": {
   "display_name": "Python 3 (ipykernel)",
   "language": "python",
   "name": "python3"
  },
  "language_info": {
   "codemirror_mode": {
    "name": "ipython",
    "version": 3
   },
   "file_extension": ".py",
   "mimetype": "text/x-python",
   "name": "python",
   "nbconvert_exporter": "python",
   "pygments_lexer": "ipython3",
   "version": "3.10.8"
  }
 },
 "nbformat": 4,
 "nbformat_minor": 5
}
